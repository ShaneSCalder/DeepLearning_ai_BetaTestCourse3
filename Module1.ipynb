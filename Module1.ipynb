{
  "nbformat": 4,
  "nbformat_minor": 0,
  "metadata": {
    "colab": {
      "name": "Module1.ipynb",
      "provenance": [],
      "collapsed_sections": [],
      "authorship_tag": "ABX9TyNuLqQZQut+EV+08eyNPlTt",
      "include_colab_link": true
    },
    "kernelspec": {
      "name": "python3",
      "display_name": "Python 3"
    }
  },
  "cells": [
    {
      "cell_type": "markdown",
      "metadata": {
        "id": "view-in-github",
        "colab_type": "text"
      },
      "source": [
        "<a href=\"https://colab.research.google.com/github/ShaneSCalder/DeepLearning_ai_BetaTestCourse3/blob/master/Module1.ipynb\" target=\"_parent\"><img src=\"https://colab.research.google.com/assets/colab-badge.svg\" alt=\"Open In Colab\"/></a>"
      ]
    },
    {
      "cell_type": "code",
      "metadata": {
        "id": "LgbcqJvkkPB9",
        "colab_type": "code",
        "colab": {}
      },
      "source": [
        "!pip install -q tensorflow tensorflow-datasets matplotlib\n"
      ],
      "execution_count": 0,
      "outputs": []
    },
    {
      "cell_type": "code",
      "metadata": {
        "id": "tZqK1GqZkhIk",
        "colab_type": "code",
        "outputId": "d48acde3-99da-48a8-d321-3a7c6db28d0c",
        "colab": {
          "base_uri": "https://localhost:8080/",
          "height": 64
        }
      },
      "source": [
        "from __future__ import absolute_import\n",
        "from __future__ import division\n",
        "from __future__ import print_function\n",
        "\n",
        "import matplotlib.pyplot as plt\n",
        "import numpy as np\n",
        "import tensorflow as tf\n",
        "\n",
        "import tensorflow_datasets as tfds\n",
        "tf.enable_eager_execution()"
      ],
      "execution_count": 1,
      "outputs": [
        {
          "output_type": "display_data",
          "data": {
            "text/html": [
              "<p style=\"color: red;\">\n",
              "The default version of TensorFlow in Colab will soon switch to TensorFlow 2.x.<br>\n",
              "We recommend you <a href=\"https://www.tensorflow.org/guide/migrate\" target=\"_blank\">upgrade</a> now \n",
              "or ensure your notebook will continue to use TensorFlow 1.x via the <code>%tensorflow_version 1.x</code> magic:\n",
              "<a href=\"https://colab.research.google.com/notebooks/tensorflow_version.ipynb\" target=\"_blank\">more info</a>.</p>\n"
            ],
            "text/plain": [
              "<IPython.core.display.HTML object>"
            ]
          },
          "metadata": {
            "tags": []
          }
        }
      ]
    },
    {
      "cell_type": "markdown",
      "metadata": {
        "id": "xT_16gZIlb4Q",
        "colab_type": "text"
      },
      "source": [
        ""
      ]
    },
    {
      "cell_type": "markdown",
      "metadata": {
        "id": "TIdHCjFKlpKL",
        "colab_type": "text"
      },
      "source": [
        "### **Merge with Legacy API**"
      ]
    },
    {
      "cell_type": "markdown",
      "metadata": {
        "id": "mJXGjEc8ll2q",
        "colab_type": "text"
      },
      "source": [
        ""
      ]
    },
    {
      "cell_type": "code",
      "metadata": {
        "id": "Ng3bBsGoljqL",
        "colab_type": "code",
        "outputId": "9cdf4478-6cf7-4865-a4a4-47857ae10137",
        "colab": {
          "base_uri": "https://localhost:8080/",
          "height": 34
        }
      },
      "source": [
        "all = tfds.Split.TRAIN + tfds.Split.TEST\n",
        "ds = tfds.load(\"mnist\", split=all)\n",
        "print(len(list(ds)))"
      ],
      "execution_count": 3,
      "outputs": [
        {
          "output_type": "stream",
          "text": [
            "70000\n"
          ],
          "name": "stdout"
        }
      ]
    },
    {
      "cell_type": "code",
      "metadata": {
        "id": "b5_--vNQmIgu",
        "colab_type": "code",
        "colab": {}
      },
      "source": [
        ""
      ],
      "execution_count": 0,
      "outputs": []
    },
    {
      "cell_type": "markdown",
      "metadata": {
        "id": "G8FnOZpemuru",
        "colab_type": "text"
      },
      "source": [
        "### **SubSplits**"
      ]
    },
    {
      "cell_type": "code",
      "metadata": {
        "id": "PTVHcZzQmy_F",
        "colab_type": "code",
        "outputId": "151ffc06-b7b3-4bb8-b41b-5797858b9e4b",
        "colab": {
          "base_uri": "https://localhost:8080/",
          "height": 86
        }
      },
      "source": [
        "s1, s2, s3, s4, = tfds.Split.TRAIN.subsplit(k=4)\n",
        "\n",
        "dataset_split_1 = tfds.load('mnist', split=s1)\n",
        "dataset_split_2 = tfds.load('mnist', split=s2)\n",
        "dataset_split_3 = tfds.load('mnist', split=s3)\n",
        "dataset_split_4 = tfds.load('mnist', split= s4)\n",
        "\n",
        "print(len(list(dataset_split_1)))\n",
        "print(len(list(dataset_split_2)))\n",
        "print(len(list(dataset_split_3)))\n",
        "print(len(list(dataset_split_4)))\n"
      ],
      "execution_count": 4,
      "outputs": [
        {
          "output_type": "stream",
          "text": [
            "15000\n",
            "15000\n",
            "15000\n",
            "15000\n"
          ],
          "name": "stdout"
        }
      ]
    },
    {
      "cell_type": "code",
      "metadata": {
        "id": "c0fwIFtPonsA",
        "colab_type": "code",
        "outputId": "c471a138-9e21-4b76-9bef-a02eb1ccbba8",
        "colab": {
          "base_uri": "https://localhost:8080/",
          "height": 86
        }
      },
      "source": [
        "a1 = tfds.Split.TRAIN.subsplit(tfds.percent[0:25])\n",
        "a2 = tfds.Split.TRAIN.subsplit(tfds.percent[25:50])\n",
        "a3 = tfds.Split.TRAIN.subsplit(tfds.percent[50:75])\n",
        "a4 = tfds.Split.TRAIN.subsplit(tfds.percent[75:100])\n",
        "\n",
        "dataset_split_1 = tfds.load('mnist', split=a1)\n",
        "dataset_split_2 = tfds.load('mnist', split=a2)\n",
        "dataset_split_3 = tfds.load('mnist', split=a3)\n",
        "dataset_split_4 = tfds.load('mnist', split=a4)\n",
        "\n",
        "print(len(list(dataset_split_1)))\n",
        "print(len(list(dataset_split_2)))\n",
        "print(len(list(dataset_split_3)))\n",
        "print(len(list(dataset_split_4)))\n"
      ],
      "execution_count": 0,
      "outputs": [
        {
          "output_type": "stream",
          "text": [
            "15000\n",
            "15000\n",
            "15000\n",
            "15000\n"
          ],
          "name": "stdout"
        }
      ]
    },
    {
      "cell_type": "code",
      "metadata": {
        "id": "-_r2OTUOqXCO",
        "colab_type": "code",
        "colab": {}
      },
      "source": [
        ""
      ],
      "execution_count": 0,
      "outputs": []
    },
    {
      "cell_type": "markdown",
      "metadata": {
        "id": "jZtNPgPdqg1R",
        "colab_type": "text"
      },
      "source": [
        "### **Using New API**"
      ]
    },
    {
      "cell_type": "code",
      "metadata": {
        "id": "HBX96asjql2u",
        "colab_type": "code",
        "outputId": "86a963fe-bc9c-4a72-bd06-7ba6dfa5ccf5",
        "colab": {
          "base_uri": "https://localhost:8080/",
          "height": 34
        }
      },
      "source": [
        "rps_builder = tfds.builder('mnist:3.*.*')\n",
        "\n",
        "print(rps_builder.version.implements(tfds.core.Experiment.S3))"
      ],
      "execution_count": 9,
      "outputs": [
        {
          "output_type": "stream",
          "text": [
            "True\n"
          ],
          "name": "stdout"
        }
      ]
    },
    {
      "cell_type": "code",
      "metadata": {
        "id": "wOSyJXIirbX6",
        "colab_type": "code",
        "outputId": "a3dd72f1-1dbd-4148-8124-f8197a75b16b",
        "colab": {
          "base_uri": "https://localhost:8080/",
          "height": 52
        }
      },
      "source": [
        "train_ds, test_ds = tfds.load('mnist:3.*.*', split=['train', 'test'])\n",
        "print(len(list(train_ds)))\n",
        "print(len(list(test_ds)))"
      ],
      "execution_count": 8,
      "outputs": [
        {
          "output_type": "stream",
          "text": [
            "60000\n",
            "10000\n"
          ],
          "name": "stdout"
        }
      ]
    },
    {
      "cell_type": "code",
      "metadata": {
        "id": "RWWOqJukr0t7",
        "colab_type": "code",
        "outputId": "753eb035-a00c-4890-fe0d-4ef02296da9c",
        "colab": {
          "base_uri": "https://localhost:8080/",
          "height": 34
        }
      },
      "source": [
        "combined = tfds.load('mnist:3.*.*', split='train+test')\n",
        "print(len(list(combined)))"
      ],
      "execution_count": 10,
      "outputs": [
        {
          "output_type": "stream",
          "text": [
            "70000\n"
          ],
          "name": "stdout"
        }
      ]
    },
    {
      "cell_type": "code",
      "metadata": {
        "id": "tkS1YUebs9cO",
        "colab_type": "code",
        "outputId": "54938f14-ef2a-4d04-c3b8-7468327f1769",
        "colab": {
          "base_uri": "https://localhost:8080/",
          "height": 34
        }
      },
      "source": [
        "first10k = tfds.load('mnist:3.*.*', split='train[:10000]')\n",
        "print(len(list(first10k)))"
      ],
      "execution_count": 0,
      "outputs": [
        {
          "output_type": "stream",
          "text": [
            "10000\n"
          ],
          "name": "stdout"
        }
      ]
    },
    {
      "cell_type": "code",
      "metadata": {
        "id": "KGEx3w2ztWiV",
        "colab_type": "code",
        "outputId": "e4bb40ca-1af4-439f-e21b-bf94822b515c",
        "colab": {
          "base_uri": "https://localhost:8080/",
          "height": 34
        }
      },
      "source": [
        "first20p = tfds.load('mnist:3.*.*', split='train[:20%]')\n",
        "print(len(list(first20p)))"
      ],
      "execution_count": 11,
      "outputs": [
        {
          "output_type": "stream",
          "text": [
            "12000\n"
          ],
          "name": "stdout"
        }
      ]
    },
    {
      "cell_type": "code",
      "metadata": {
        "id": "sPpHtu4XtrbD",
        "colab_type": "code",
        "colab": {
          "base_uri": "https://localhost:8080/",
          "height": 89
        },
        "outputId": "9a15c97e-8868-4e03-f0b1-49ca998c9a61"
      },
      "source": [
        "val_ds = tfds.load('mnist:3.*.*', split=['train[{}%:{}%]'.format(k, k+20) for k in range(0, 100, 20)])\n",
        "\n",
        "train_ds = tfds.load('mnist:3.*.*', split=['train[:{}%]+train[{}%:]'.format(k, k+20) for k in range(0, 100, 20)])\n",
        "\n",
        "print(val_ds)\n",
        "print(len(list(val_ds)))\n",
        "print(len(list(train_ds)))"
      ],
      "execution_count": 12,
      "outputs": [
        {
          "output_type": "stream",
          "text": [
            "[<DatasetV1Adapter shapes: {image: (28, 28, 1), label: ()}, types: {image: tf.uint8, label: tf.int64}>, <DatasetV1Adapter shapes: {image: (28, 28, 1), label: ()}, types: {image: tf.uint8, label: tf.int64}>, <DatasetV1Adapter shapes: {image: (28, 28, 1), label: ()}, types: {image: tf.uint8, label: tf.int64}>, <DatasetV1Adapter shapes: {image: (28, 28, 1), label: ()}, types: {image: tf.uint8, label: tf.int64}>, <DatasetV1Adapter shapes: {image: (28, 28, 1), label: ()}, types: {image: tf.uint8, label: tf.int64}>]\n",
            "5\n",
            "5\n"
          ],
          "name": "stdout"
        }
      ]
    },
    {
      "cell_type": "code",
      "metadata": {
        "id": "uQuKmNq-v6Ys",
        "colab_type": "code",
        "colab": {}
      },
      "source": [
        ""
      ],
      "execution_count": 0,
      "outputs": []
    }
  ]
}