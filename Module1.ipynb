{
  "nbformat": 4,
  "nbformat_minor": 0,
  "metadata": {
    "colab": {
      "name": "Module1.ipynb",
      "provenance": [],
      "collapsed_sections": [],
      "authorship_tag": "ABX9TyMXIiw2s/CLbzThKvldfVyV",
      "include_colab_link": true
    },
    "kernelspec": {
      "name": "python3",
      "display_name": "Python 3"
    },
    "widgets": {
      "application/vnd.jupyter.widget-state+json": {
        "089c46e3a1f14235b8cc8d73d6b78ce0": {
          "model_module": "@jupyter-widgets/controls",
          "model_name": "HBoxModel",
          "state": {
            "_view_name": "HBoxView",
            "_dom_classes": [],
            "_model_name": "HBoxModel",
            "_view_module": "@jupyter-widgets/controls",
            "_model_module_version": "1.5.0",
            "_view_count": null,
            "_view_module_version": "1.5.0",
            "box_style": "",
            "layout": "IPY_MODEL_be7cc7d7d2ee443eab39099e0efe7e00",
            "_model_module": "@jupyter-widgets/controls",
            "children": [
              "IPY_MODEL_d55e9d0cffcd42568f19850400d59e2f",
              "IPY_MODEL_57875d3f9f1041c9b7409081467624c7"
            ]
          }
        }
      }
    }
  },
  "cells": [
    {
      "cell_type": "markdown",
      "metadata": {
        "id": "view-in-github",
        "colab_type": "text"
      },
      "source": [
        "<a href=\"https://colab.research.google.com/github/ShaneSCalder/DeepLearning_ai_BetaTestCourse3/blob/master/Module1.ipynb\" target=\"_parent\"><img src=\"https://colab.research.google.com/assets/colab-badge.svg\" alt=\"Open In Colab\"/></a>"
      ]
    },
    {
      "cell_type": "code",
      "metadata": {
        "id": "LgbcqJvkkPB9",
        "colab_type": "code",
        "colab": {}
      },
      "source": [
        "!pip install -q tensorflow tensorflow-datasets matplotlib\n"
      ],
      "execution_count": 0,
      "outputs": []
    },
    {
      "cell_type": "code",
      "metadata": {
        "id": "tZqK1GqZkhIk",
        "colab_type": "code",
        "colab": {
          "base_uri": "https://localhost:8080/",
          "height": 64
        },
        "outputId": "42e673b4-0fae-4029-ecdb-8bb8899826bb"
      },
      "source": [
        "from __future__ import absolute_import\n",
        "from __future__ import division\n",
        "from __future__ import print_function\n",
        "\n",
        "import matplotlib.pyplot as plt\n",
        "import numpy as np\n",
        "import tensorflow as tf\n",
        "\n",
        "import tensorflow_datasets as tfds\n",
        "tf.enable_eager_execution()"
      ],
      "execution_count": 2,
      "outputs": [
        {
          "output_type": "display_data",
          "data": {
            "text/html": [
              "<p style=\"color: red;\">\n",
              "The default version of TensorFlow in Colab will soon switch to TensorFlow 2.x.<br>\n",
              "We recommend you <a href=\"https://www.tensorflow.org/guide/migrate\" target=\"_blank\">upgrade</a> now \n",
              "or ensure your notebook will continue to use TensorFlow 1.x via the <code>%tensorflow_version 1.x</code> magic:\n",
              "<a href=\"https://colab.research.google.com/notebooks/tensorflow_version.ipynb\" target=\"_blank\">more info</a>.</p>\n"
            ],
            "text/plain": [
              "<IPython.core.display.HTML object>"
            ]
          },
          "metadata": {
            "tags": []
          }
        }
      ]
    },
    {
      "cell_type": "markdown",
      "metadata": {
        "id": "xT_16gZIlb4Q",
        "colab_type": "text"
      },
      "source": [
        ""
      ]
    },
    {
      "cell_type": "markdown",
      "metadata": {
        "id": "TIdHCjFKlpKL",
        "colab_type": "text"
      },
      "source": [
        "### **Merge with Legacy API**"
      ]
    },
    {
      "cell_type": "markdown",
      "metadata": {
        "id": "mJXGjEc8ll2q",
        "colab_type": "text"
      },
      "source": [
        ""
      ]
    },
    {
      "cell_type": "code",
      "metadata": {
        "id": "Ng3bBsGoljqL",
        "colab_type": "code",
        "colab": {
          "base_uri": "https://localhost:8080/",
          "height": 191,
          "referenced_widgets": [
            "089c46e3a1f14235b8cc8d73d6b78ce0"
          ]
        },
        "outputId": "938d764c-fd7a-4b37-9c21-31cfe1ebc21a"
      },
      "source": [
        "all = tfds.Split.TRAIN + tfds.Split.TEST\n",
        "ds = tfds.load(\"mnist\", split=all)\n",
        "print(len(list(ds)))"
      ],
      "execution_count": 6,
      "outputs": [
        {
          "output_type": "stream",
          "text": [
            "\u001b[1mDownloading and preparing dataset mnist (11.06 MiB) to /root/tensorflow_datasets/mnist/1.0.0...\u001b[0m\n"
          ],
          "name": "stdout"
        },
        {
          "output_type": "stream",
          "text": [
            "WARNING:absl:Dataset mnist is hosted on GCS. It will automatically be downloaded to your\n",
            "local data directory. If you'd instead prefer to read directly from our public\n",
            "GCS bucket (recommended if you're running on GCP), you can instead set\n",
            "data_dir=gs://tfds-data/datasets.\n",
            "\n"
          ],
          "name": "stderr"
        },
        {
          "output_type": "display_data",
          "data": {
            "application/vnd.jupyter.widget-view+json": {
              "model_id": "089c46e3a1f14235b8cc8d73d6b78ce0",
              "version_minor": 0,
              "version_major": 2
            },
            "text/plain": [
              "HBox(children=(IntProgress(value=0, description='Dl Completed...', max=19, style=ProgressStyle(description_wid…"
            ]
          },
          "metadata": {
            "tags": []
          }
        },
        {
          "output_type": "stream",
          "text": [
            "\n",
            "\n",
            "\u001b[1mDataset mnist downloaded and prepared to /root/tensorflow_datasets/mnist/1.0.0. Subsequent calls will reuse this data.\u001b[0m\n",
            "70000\n"
          ],
          "name": "stdout"
        }
      ]
    },
    {
      "cell_type": "code",
      "metadata": {
        "id": "b5_--vNQmIgu",
        "colab_type": "code",
        "colab": {}
      },
      "source": [
        ""
      ],
      "execution_count": 0,
      "outputs": []
    },
    {
      "cell_type": "markdown",
      "metadata": {
        "id": "G8FnOZpemuru",
        "colab_type": "text"
      },
      "source": [
        "### **SubSplits**"
      ]
    },
    {
      "cell_type": "code",
      "metadata": {
        "id": "PTVHcZzQmy_F",
        "colab_type": "code",
        "colab": {
          "base_uri": "https://localhost:8080/",
          "height": 86
        },
        "outputId": "5afb1014-48ea-4d45-82d0-a1042c570dc0"
      },
      "source": [
        "s1, s2, s3, s4, = tfds.Split.TRAIN.subsplit(k=4)\n",
        "\n",
        "dataset_split_1 = tfds.load('mnist', split=s1)\n",
        "dataset_split_2 = tfds.load('mnist', split=s2)\n",
        "dataset_split_3 = tfds.load('mnist', split=s3)\n",
        "dataset_split_4 = tfds.load('mnist', split= s4)\n",
        "\n",
        "print(len(list(dataset_split_1)))\n",
        "print(len(list(dataset_split_2)))\n",
        "print(len(list(dataset_split_3)))\n",
        "print(len(list(dataset_split_4)))\n"
      ],
      "execution_count": 7,
      "outputs": [
        {
          "output_type": "stream",
          "text": [
            "15000\n",
            "15000\n",
            "15000\n",
            "15000\n"
          ],
          "name": "stdout"
        }
      ]
    },
    {
      "cell_type": "code",
      "metadata": {
        "id": "c0fwIFtPonsA",
        "colab_type": "code",
        "colab": {
          "base_uri": "https://localhost:8080/",
          "height": 86
        },
        "outputId": "c471a138-9e21-4b76-9bef-a02eb1ccbba8"
      },
      "source": [
        "a1 = tfds.Split.TRAIN.subsplit(tfds.percent[0:25])\n",
        "a2 = tfds.Split.TRAIN.subsplit(tfds.percent[25:50])\n",
        "a3 = tfds.Split.TRAIN.subsplit(tfds.percent[50:75])\n",
        "a4 = tfds.Split.TRAIN.subsplit(tfds.percent[75:100])\n",
        "\n",
        "dataset_split_1 = tfds.load('mnist', split=a1)\n",
        "dataset_split_2 = tfds.load('mnist', split=a2)\n",
        "dataset_split_3 = tfds.load('mnist', split=a3)\n",
        "dataset_split_4 = tfds.load('mnist', split=a4)\n",
        "\n",
        "print(len(list(dataset_split_1)))\n",
        "print(len(list(dataset_split_2)))\n",
        "print(len(list(dataset_split_3)))\n",
        "print(len(list(dataset_split_4)))\n"
      ],
      "execution_count": 9,
      "outputs": [
        {
          "output_type": "stream",
          "text": [
            "15000\n",
            "15000\n",
            "15000\n",
            "15000\n"
          ],
          "name": "stdout"
        }
      ]
    },
    {
      "cell_type": "code",
      "metadata": {
        "id": "-_r2OTUOqXCO",
        "colab_type": "code",
        "colab": {}
      },
      "source": [
        ""
      ],
      "execution_count": 0,
      "outputs": []
    },
    {
      "cell_type": "markdown",
      "metadata": {
        "id": "jZtNPgPdqg1R",
        "colab_type": "text"
      },
      "source": [
        "### **Using New API**"
      ]
    },
    {
      "cell_type": "code",
      "metadata": {
        "id": "HBX96asjql2u",
        "colab_type": "code",
        "colab": {
          "base_uri": "https://localhost:8080/",
          "height": 34
        },
        "outputId": "7eba94f7-a718-4da8-b7cd-24998231e260"
      },
      "source": [
        "rps_builder = tfds.builder('mnist:3.*.*')\n",
        "\n",
        "print(rps_builder.version.implements(tfds.core.Experiment.S3))"
      ],
      "execution_count": 21,
      "outputs": [
        {
          "output_type": "stream",
          "text": [
            "True\n"
          ],
          "name": "stdout"
        }
      ]
    },
    {
      "cell_type": "code",
      "metadata": {
        "id": "wOSyJXIirbX6",
        "colab_type": "code",
        "colab": {
          "base_uri": "https://localhost:8080/",
          "height": 52
        },
        "outputId": "6016e91c-26d9-4bd3-de20-1e1ec7a6037a"
      },
      "source": [
        "train_ds, test_ds = tfds.load('mnist:3.*.*', split=['train', 'test'])\n",
        "print(len(list(train_ds)))\n",
        "print(len(list(test_ds)))"
      ],
      "execution_count": 22,
      "outputs": [
        {
          "output_type": "stream",
          "text": [
            "60000\n",
            "10000\n"
          ],
          "name": "stdout"
        }
      ]
    },
    {
      "cell_type": "code",
      "metadata": {
        "id": "RWWOqJukr0t7",
        "colab_type": "code",
        "colab": {
          "base_uri": "https://localhost:8080/",
          "height": 34
        },
        "outputId": "293a71f1-3ca7-410b-dc32-ba0f5a09e0cf"
      },
      "source": [
        "combined = tfds.load('mnist:3.*.*', split='train+test')\n",
        "print(len(list(combined)))"
      ],
      "execution_count": 23,
      "outputs": [
        {
          "output_type": "stream",
          "text": [
            "70000\n"
          ],
          "name": "stdout"
        }
      ]
    },
    {
      "cell_type": "code",
      "metadata": {
        "id": "tkS1YUebs9cO",
        "colab_type": "code",
        "colab": {
          "base_uri": "https://localhost:8080/",
          "height": 34
        },
        "outputId": "54938f14-ef2a-4d04-c3b8-7468327f1769"
      },
      "source": [
        "first10k = tfds.load('mnist:3.*.*', split='train[:10000]')\n",
        "print(len(list(first10k)))"
      ],
      "execution_count": 17,
      "outputs": [
        {
          "output_type": "stream",
          "text": [
            "10000\n"
          ],
          "name": "stdout"
        }
      ]
    },
    {
      "cell_type": "code",
      "metadata": {
        "id": "KGEx3w2ztWiV",
        "colab_type": "code",
        "colab": {
          "base_uri": "https://localhost:8080/",
          "height": 34
        },
        "outputId": "40c2864c-cf26-4414-e116-0741d0c7fc5b"
      },
      "source": [
        "first20p = tfds.load('mnist:3.*.*', split='train[:20%]')\n",
        "print(len(list(first20p)))"
      ],
      "execution_count": 18,
      "outputs": [
        {
          "output_type": "stream",
          "text": [
            "12000\n"
          ],
          "name": "stdout"
        }
      ]
    },
    {
      "cell_type": "code",
      "metadata": {
        "id": "sPpHtu4XtrbD",
        "colab_type": "code",
        "colab": {}
      },
      "source": [
        "#val_ds = tfds.load('mnist:3.*.*', split=['trian[{}%:{}%]'.format(k, k+20) for k in range(0, 100, 20)])\n",
        "\n",
        "#train_ds = tfds.load('mnist:3.*.*', split=['train[:{}%]+train[{}%:]'.format(k, k+20) for k in range(0, 100, 20)])\n",
        "\n",
        "#print(val_ds)\n",
        "#print(len(list(val_ds)))\n",
        "#print(len(list(train_ds)))"
      ],
      "execution_count": 0,
      "outputs": []
    },
    {
      "cell_type": "code",
      "metadata": {
        "id": "uQuKmNq-v6Ys",
        "colab_type": "code",
        "colab": {}
      },
      "source": [
        ""
      ],
      "execution_count": 0,
      "outputs": []
    }
  ]
}